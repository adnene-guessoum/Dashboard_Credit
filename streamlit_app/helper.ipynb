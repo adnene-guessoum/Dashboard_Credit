{
 "cells": [
  {
   "cell_type": "code",
   "execution_count": 4,
   "metadata": {},
   "outputs": [
    {
     "name": "stdout",
     "output_type": "stream",
     "text": [
      "Index(['TARGET', 'CODE_GENDER', 'AMT_CREDIT', 'AMT_ANNUITY', 'AMT_GOODS_PRICE',\n",
      "       'REGION_POPULATION_RELATIVE', 'DAYS_BIRTH', 'DAYS_EMPLOYED',\n",
      "       'DAYS_REGISTRATION', 'DAYS_ID_PUBLISH',\n",
      "       ...\n",
      "       'INSTAL_DAYS_ENTRY_PAYMENT_MEAN', 'INSTAL_DAYS_ENTRY_PAYMENT_SUM',\n",
      "       'CC_AMT_DRAWINGS_ATM_CURRENT_MEAN', 'CC_AMT_DRAWINGS_ATM_CURRENT_VAR',\n",
      "       'CC_AMT_RECIVABLE_MEAN', 'CC_CNT_DRAWINGS_ATM_CURRENT_MEAN',\n",
      "       'CC_CNT_DRAWINGS_ATM_CURRENT_VAR', 'CC_CNT_DRAWINGS_CURRENT_MEAN',\n",
      "       'CC_CNT_DRAWINGS_CURRENT_VAR', 'ID'],\n",
      "      dtype='object', length=123)\n",
      "0.0    282665\n",
      "1.0     24823\n",
      "Name: TARGET, dtype: int64\n",
      "100002    1\n",
      "375099    1\n",
      "375107    1\n",
      "375106    1\n",
      "375105    1\n",
      "         ..\n",
      "237706    1\n",
      "237705    1\n",
      "237704    1\n",
      "237703    1\n",
      "456250    1\n",
      "Name: ID, Length: 356231, dtype: int64\n"
     ]
    }
   ],
   "source": [
    "import pandas as pd\n",
    "\n",
    "df = pd.read_csv('output_data/selected_feature_dataset')\n",
    "\n",
    "#print(df.head)\n",
    "print(df.columns)\n",
    "\n",
    "print(df['TARGET'].value_counts())\n",
    "print(df['ID'].value_counts())"
   ]
  },
  {
   "cell_type": "code",
   "execution_count": 9,
   "metadata": {},
   "outputs": [
    {
     "name": "stdout",
     "output_type": "stream",
     "text": [
      "Index(['Table', 'Row', 'Description', 'Special'], dtype='object')\n",
      "<bound method NDFrame.head of                             Table                    Row  \\\n",
      "0    application_{train|test}.csv             SK_ID_CURR   \n",
      "1    application_{train|test}.csv                 TARGET   \n",
      "2    application_{train|test}.csv     NAME_CONTRACT_TYPE   \n",
      "3    application_{train|test}.csv            CODE_GENDER   \n",
      "4    application_{train|test}.csv           FLAG_OWN_CAR   \n",
      "..                            ...                    ...   \n",
      "214     installments_payments.csv  NUM_INSTALMENT_NUMBER   \n",
      "215     installments_payments.csv        DAYS_INSTALMENT   \n",
      "216     installments_payments.csv     DAYS_ENTRY_PAYMENT   \n",
      "217     installments_payments.csv         AMT_INSTALMENT   \n",
      "218     installments_payments.csv            AMT_PAYMENT   \n",
      "\n",
      "                                           Description  \\\n",
      "0                             ID of loan in our sample   \n",
      "1    Target variable (1 - client with payment diffi...   \n",
      "2          Identification if loan is cash or revolving   \n",
      "3                                 Gender of the client   \n",
      "4                        Flag if the client owns a car   \n",
      "..                                                 ...   \n",
      "214            On which installment we observe payment   \n",
      "215  When the installment of previous credit was su...   \n",
      "216  When was the installments of previous credit p...   \n",
      "217  What was the prescribed installment amount of ...   \n",
      "218  What the client actually paid on previous cred...   \n",
      "\n",
      "                                   Special  \n",
      "0                                      NaN  \n",
      "1                                      NaN  \n",
      "2                                      NaN  \n",
      "3                                      NaN  \n",
      "4                                      NaN  \n",
      "..                                     ...  \n",
      "214                                    NaN  \n",
      "215  time only relative to the application  \n",
      "216  time only relative to the application  \n",
      "217                                    NaN  \n",
      "218                                    NaN  \n",
      "\n",
      "[219 rows x 4 columns]>\n",
      "Index(['Feature', 'description'], dtype='object')\n",
      "<bound method NDFrame.head of                               Feature  \\\n",
      "0                         CODE_GENDER   \n",
      "1                          AMT_CREDIT   \n",
      "2                         AMT_ANNUITY   \n",
      "3                     AMT_GOODS_PRICE   \n",
      "4          REGION_POPULATION_RELATIVE   \n",
      "..                                ...   \n",
      "105    INSTAL_DAYS_ENTRY_PAYMENT_MEAN   \n",
      "106     INSTAL_DAYS_ENTRY_PAYMENT_SUM   \n",
      "107  CC_CNT_DRAWINGS_ATM_CURRENT_MEAN   \n",
      "108      CC_CNT_DRAWINGS_CURRENT_MEAN   \n",
      "109       CC_CNT_DRAWINGS_CURRENT_VAR   \n",
      "\n",
      "                                           description  \n",
      "0                                 Gender of the client  \n",
      "1                            Credit amount of the loan  \n",
      "2                                         Loan annuity  \n",
      "3    For consumer loans it is the price of the good...  \n",
      "4    Normalized population of region where client l...  \n",
      "..                                                 ...  \n",
      "105  When was the installments of previous credit p...  \n",
      "106  When was the installments of previous credit p...  \n",
      "107  Amount drawing at ATM during the month of the ...  \n",
      "108  Mean Amount drawing during the month of the pr...  \n",
      "109  VAR Amount drawing during the month of the pre...  \n",
      "\n",
      "[110 rows x 2 columns]>\n"
     ]
    },
    {
     "ename": "KeyError",
     "evalue": "'ID'",
     "output_type": "error",
     "traceback": [
      "\u001b[0;31m---------------------------------------------------------------------------\u001b[0m",
      "\u001b[0;31mKeyError\u001b[0m                                  Traceback (most recent call last)",
      "File \u001b[0;32m~/miniconda3/envs/DashboardCredit/lib/python3.11/site-packages/pandas/core/indexes/base.py:3802\u001b[0m, in \u001b[0;36mIndex.get_loc\u001b[0;34m(self, key, method, tolerance)\u001b[0m\n\u001b[1;32m   3801\u001b[0m \u001b[39mtry\u001b[39;00m:\n\u001b[0;32m-> 3802\u001b[0m     \u001b[39mreturn\u001b[39;00m \u001b[39mself\u001b[39;49m\u001b[39m.\u001b[39;49m_engine\u001b[39m.\u001b[39;49mget_loc(casted_key)\n\u001b[1;32m   3803\u001b[0m \u001b[39mexcept\u001b[39;00m \u001b[39mKeyError\u001b[39;00m \u001b[39mas\u001b[39;00m err:\n",
      "File \u001b[0;32m~/miniconda3/envs/DashboardCredit/lib/python3.11/site-packages/pandas/_libs/index.pyx:138\u001b[0m, in \u001b[0;36mpandas._libs.index.IndexEngine.get_loc\u001b[0;34m()\u001b[0m\n",
      "File \u001b[0;32m~/miniconda3/envs/DashboardCredit/lib/python3.11/site-packages/pandas/_libs/index.pyx:165\u001b[0m, in \u001b[0;36mpandas._libs.index.IndexEngine.get_loc\u001b[0;34m()\u001b[0m\n",
      "File \u001b[0;32mpandas/_libs/hashtable_class_helper.pxi:5745\u001b[0m, in \u001b[0;36mpandas._libs.hashtable.PyObjectHashTable.get_item\u001b[0;34m()\u001b[0m\n",
      "File \u001b[0;32mpandas/_libs/hashtable_class_helper.pxi:5753\u001b[0m, in \u001b[0;36mpandas._libs.hashtable.PyObjectHashTable.get_item\u001b[0;34m()\u001b[0m\n",
      "\u001b[0;31mKeyError\u001b[0m: 'ID'",
      "\nThe above exception was the direct cause of the following exception:\n",
      "\u001b[0;31mKeyError\u001b[0m                                  Traceback (most recent call last)",
      "Cell \u001b[0;32mIn[9], line 9\u001b[0m\n\u001b[1;32m      6\u001b[0m \u001b[39mprint\u001b[39m(old_desc\u001b[39m.\u001b[39mcolumns)\n\u001b[1;32m      7\u001b[0m \u001b[39mprint\u001b[39m(old_desc\u001b[39m.\u001b[39mhead)\n\u001b[0;32m----> 9\u001b[0m \u001b[39mprint\u001b[39m(df[\u001b[39m'\u001b[39m\u001b[39mID\u001b[39m\u001b[39m'\u001b[39m]\u001b[39m.\u001b[39mhead, desc[\u001b[39m'\u001b[39;49m\u001b[39mID\u001b[39;49m\u001b[39m'\u001b[39;49m]\u001b[39m.\u001b[39mhead, old_desc[\u001b[39m'\u001b[39m\u001b[39mID\u001b[39m\u001b[39m'\u001b[39m]\u001b[39m.\u001b[39mhead)\n",
      "File \u001b[0;32m~/miniconda3/envs/DashboardCredit/lib/python3.11/site-packages/pandas/core/frame.py:3807\u001b[0m, in \u001b[0;36mDataFrame.__getitem__\u001b[0;34m(self, key)\u001b[0m\n\u001b[1;32m   3805\u001b[0m \u001b[39mif\u001b[39;00m \u001b[39mself\u001b[39m\u001b[39m.\u001b[39mcolumns\u001b[39m.\u001b[39mnlevels \u001b[39m>\u001b[39m \u001b[39m1\u001b[39m:\n\u001b[1;32m   3806\u001b[0m     \u001b[39mreturn\u001b[39;00m \u001b[39mself\u001b[39m\u001b[39m.\u001b[39m_getitem_multilevel(key)\n\u001b[0;32m-> 3807\u001b[0m indexer \u001b[39m=\u001b[39m \u001b[39mself\u001b[39;49m\u001b[39m.\u001b[39;49mcolumns\u001b[39m.\u001b[39;49mget_loc(key)\n\u001b[1;32m   3808\u001b[0m \u001b[39mif\u001b[39;00m is_integer(indexer):\n\u001b[1;32m   3809\u001b[0m     indexer \u001b[39m=\u001b[39m [indexer]\n",
      "File \u001b[0;32m~/miniconda3/envs/DashboardCredit/lib/python3.11/site-packages/pandas/core/indexes/base.py:3804\u001b[0m, in \u001b[0;36mIndex.get_loc\u001b[0;34m(self, key, method, tolerance)\u001b[0m\n\u001b[1;32m   3802\u001b[0m     \u001b[39mreturn\u001b[39;00m \u001b[39mself\u001b[39m\u001b[39m.\u001b[39m_engine\u001b[39m.\u001b[39mget_loc(casted_key)\n\u001b[1;32m   3803\u001b[0m \u001b[39mexcept\u001b[39;00m \u001b[39mKeyError\u001b[39;00m \u001b[39mas\u001b[39;00m err:\n\u001b[0;32m-> 3804\u001b[0m     \u001b[39mraise\u001b[39;00m \u001b[39mKeyError\u001b[39;00m(key) \u001b[39mfrom\u001b[39;00m \u001b[39merr\u001b[39;00m\n\u001b[1;32m   3805\u001b[0m \u001b[39mexcept\u001b[39;00m \u001b[39mTypeError\u001b[39;00m:\n\u001b[1;32m   3806\u001b[0m     \u001b[39m# If we have a listlike key, _check_indexing_error will raise\u001b[39;00m\n\u001b[1;32m   3807\u001b[0m     \u001b[39m#  InvalidIndexError. Otherwise we fall through and re-raise\u001b[39;00m\n\u001b[1;32m   3808\u001b[0m     \u001b[39m#  the TypeError.\u001b[39;00m\n\u001b[1;32m   3809\u001b[0m     \u001b[39mself\u001b[39m\u001b[39m.\u001b[39m_check_indexing_error(key)\n",
      "\u001b[0;31mKeyError\u001b[0m: 'ID'"
     ]
    }
   ],
   "source": [
    "desc = pd.read_csv('output_data/desc_features.csv')\n",
    "print(desc.columns)\n",
    "print(desc.head)\n",
    "\n",
    "old_desc = pd.read_csv('saved_model_data/desc_features.csv')\n",
    "print(old_desc.columns)\n",
    "print(old_desc.head)\n",
    "\n",
    "print(df['ID'].head, old_desc['ID'].head)"
   ]
  }
 ],
 "metadata": {
  "kernelspec": {
   "display_name": "DashboardCredit",
   "language": "python",
   "name": "python3"
  },
  "language_info": {
   "codemirror_mode": {
    "name": "ipython",
    "version": 3
   },
   "file_extension": ".py",
   "mimetype": "text/x-python",
   "name": "python",
   "nbconvert_exporter": "python",
   "pygments_lexer": "ipython3",
   "version": "3.11.3"
  },
  "orig_nbformat": 4
 },
 "nbformat": 4,
 "nbformat_minor": 2
}
